{
  "nbformat": 4,
  "nbformat_minor": 0,
  "metadata": {
    "colab": {
      "provenance": [],
      "authorship_tag": "ABX9TyPqmIlVvMreqHTMKk9kuoaV"
    },
    "kernelspec": {
      "name": "python3",
      "display_name": "Python 3"
    },
    "language_info": {
      "name": "python"
    }
  },
  "cells": [
    {
      "cell_type": "code",
      "source": [
        "from google.colab import drive\n",
        "drive.mount('/content/drive')"
      ],
      "metadata": {
        "id": "f7jhbKRdPPwr"
      },
      "execution_count": null,
      "outputs": []
    },
    {
      "cell_type": "markdown",
      "source": [
        "# Import Libraries"
      ],
      "metadata": {
        "id": "SEGs9OqDO2ET"
      }
    },
    {
      "cell_type": "code",
      "execution_count": null,
      "metadata": {
        "id": "K17ucBxEOQB4"
      },
      "outputs": [],
      "source": [
        "import pandas as pd\n",
        "from sklearn.model_selection import train_test_split\n",
        "from sklearn.preprocessing import LabelEncoder  # Import LabelEncoder\n",
        "from xgboost import XGBClassifier\n",
        "from sklearn.metrics import accuracy_score, classification_report\n",
        "import matplotlib.pyplot as plt\n",
        "import numpy as np"
      ]
    },
    {
      "cell_type": "markdown",
      "source": [
        "# Part 1 - Exploratory Analysis"
      ],
      "metadata": {
        "id": "nQFQtqQbPAKw"
      }
    },
    {
      "cell_type": "code",
      "source": [
        "data = pd.read_csv('/content/drive/MyDrive/Colab Notebooks/Projects/Mineral Resource Management/Mines_and_Mineral_Resources.csv')"
      ],
      "metadata": {
        "id": "c8xb5mi4O8ek"
      },
      "execution_count": null,
      "outputs": []
    },
    {
      "cell_type": "code",
      "source": [
        "# Display the first few rows of the dataframe\n",
        "print(data.head())"
      ],
      "metadata": {
        "id": "_LHLaKKOPg1f"
      },
      "execution_count": null,
      "outputs": []
    },
    {
      "cell_type": "code",
      "source": [
        "# Summary statistics\n",
        "print(data.describe())"
      ],
      "metadata": {
        "id": "kwAlqs4-PlsB"
      },
      "execution_count": null,
      "outputs": []
    },
    {
      "cell_type": "code",
      "source": [
        "# Data types of columns\n",
        "print(data.dtypes)"
      ],
      "metadata": {
        "id": "2DaP4oP7PqTP"
      },
      "execution_count": null,
      "outputs": []
    },
    {
      "cell_type": "code",
      "source": [
        "# Check for missing values\n",
        "print(data.isnull().sum())"
      ],
      "metadata": {
        "id": "PtqmqHfnPvpF"
      },
      "execution_count": null,
      "outputs": []
    },
    {
      "cell_type": "code",
      "source": [
        "# Histogram for AREA_ column\n",
        "plt.hist(data['AREA_'], bins=20, color='skyblue', edgecolor='black')\n",
        "plt.title('Distribution of Mine Area')\n",
        "plt.xlabel('Area')\n",
        "plt.ylabel('Frequency')\n",
        "plt.show()"
      ],
      "metadata": {
        "id": "h8vnGsB0PzsB"
      },
      "execution_count": null,
      "outputs": []
    },
    {
      "cell_type": "code",
      "source": [
        "# Bar plot for categorical features\n",
        "plt.figure(figsize=(10, 6))\n",
        "data['FEATTYPE'].value_counts().plot(kind='bar', color='lightcoral')\n",
        "plt.title('Frequency of Feature Types')\n",
        "plt.xlabel('Feature Type')\n",
        "plt.ylabel('Frequency')\n",
        "plt.show()"
      ],
      "metadata": {
        "id": "_Jre1OIwQCbm"
      },
      "execution_count": null,
      "outputs": []
    },
    {
      "cell_type": "markdown",
      "source": [
        "# Part 2 - Data Preprocessing"
      ],
      "metadata": {
        "id": "PuPA12brTU1X"
      }
    },
    {
      "cell_type": "code",
      "source": [
        "selected_features = ['FEATTYPE', 'SECCLASS', 'STATE', 'ZIP', 'COUNTY', 'NAICSDESCR', 'X', 'Y']\n",
        "target_variable = 'MINE_TYPE'"
      ],
      "metadata": {
        "id": "_Aohg120TqRq"
      },
      "execution_count": null,
      "outputs": []
    },
    {
      "cell_type": "code",
      "source": [
        "data_subset = data[selected_features + [target_variable]].copy()  # Use .copy() to create a copy of the DataFrame"
      ],
      "metadata": {
        "id": "SmkOGq7JTwpC"
      },
      "execution_count": null,
      "outputs": []
    },
    {
      "cell_type": "code",
      "source": [
        "data_subset['MINE_TYPE'] = data_subset['MINE_TYPE'].astype(str)"
      ],
      "metadata": {
        "id": "mApCwqYMhQA5"
      },
      "execution_count": null,
      "outputs": []
    },
    {
      "cell_type": "markdown",
      "source": [
        "## Encode Categorical Variables"
      ],
      "metadata": {
        "id": "Idbhs3UWYc_P"
      }
    },
    {
      "cell_type": "code",
      "source": [
        "label_encoders = {}\n",
        "for feature in selected_features:\n",
        "    if data_subset[feature].dtype == 'object':\n",
        "        label_encoders[feature] = LabelEncoder()\n",
        "        data_subset[feature] = label_encoders[feature].fit_transform(data_subset[feature])"
      ],
      "metadata": {
        "id": "H73Fnx8xYhE9"
      },
      "execution_count": null,
      "outputs": []
    },
    {
      "cell_type": "code",
      "source": [
        "# Split the data into features (X) and target variable (y)\n",
        "X = data_subset.drop(columns=[target_variable])\n",
        "y = data_subset[target_variable]"
      ],
      "metadata": {
        "id": "xRJiFOt4ZLo-"
      },
      "execution_count": null,
      "outputs": []
    },
    {
      "cell_type": "code",
      "source": [
        "label_encoder_y = LabelEncoder()\n",
        "y_encoded = label_encoder_y.fit_transform(y)"
      ],
      "metadata": {
        "id": "Il-gHOBBf7kY"
      },
      "execution_count": null,
      "outputs": []
    },
    {
      "cell_type": "markdown",
      "source": [
        "## Split the Data"
      ],
      "metadata": {
        "id": "zIdAQwdDZCUJ"
      }
    },
    {
      "cell_type": "code",
      "source": [
        "# Split the data into training and testing sets\n",
        "X_train, X_test, y_train, y_test = train_test_split(X, y_encoded, test_size=0.2, random_state=42)"
      ],
      "metadata": {
        "id": "pAAz2e43ZPet"
      },
      "execution_count": null,
      "outputs": []
    },
    {
      "cell_type": "markdown",
      "source": [
        "# Part 3 - Train the Model"
      ],
      "metadata": {
        "id": "J2lf-bCGZTuC"
      }
    },
    {
      "cell_type": "code",
      "source": [
        "model = XGBClassifier()\n",
        "model.fit(X_train, y_train)\n",
        "print(\"Model trained.\")"
      ],
      "metadata": {
        "id": "ioWsrtqxflbH"
      },
      "execution_count": null,
      "outputs": []
    },
    {
      "cell_type": "markdown",
      "source": [
        "# Part 4 - Make Predictions"
      ],
      "metadata": {
        "id": "PIN8hC1pgzaf"
      }
    },
    {
      "cell_type": "code",
      "source": [
        "# Make predictions on the testing set\n",
        "y_pred = model.predict(X_test)"
      ],
      "metadata": {
        "id": "ZQlXhaQ_g3Rr"
      },
      "execution_count": null,
      "outputs": []
    },
    {
      "cell_type": "code",
      "source": [
        "# Decode the predicted labels\n",
        "y_pred_decoded = label_encoder_y.inverse_transform(y_pred)"
      ],
      "metadata": {
        "id": "OOYU4wTlg5y8"
      },
      "execution_count": null,
      "outputs": []
    },
    {
      "cell_type": "markdown",
      "source": [
        "# Part 5 - Evaluate Model Performance"
      ],
      "metadata": {
        "id": "WIWe2y4xg8QA"
      }
    },
    {
      "cell_type": "code",
      "source": [
        "accuracy = accuracy_score(y_test, y_pred)\n",
        "print(\"Accuracy:\", accuracy)"
      ],
      "metadata": {
        "colab": {
          "base_uri": "https://localhost:8080/"
        },
        "id": "xieJ2iWThAko",
        "outputId": "4870b0e6-0acc-4a48-bef8-130633ea9f21"
      },
      "execution_count": null,
      "outputs": [
        {
          "output_type": "stream",
          "name": "stdout",
          "text": [
            "Accuracy: 0.9566666666666667\n"
          ]
        }
      ]
    },
    {
      "cell_type": "code",
      "source": [
        "# Classification report\n",
        "print(classification_report(y_test, y_pred, target_names=label_encoder_y.classes_))"
      ],
      "metadata": {
        "id": "XszSuF-QhCpQ"
      },
      "execution_count": null,
      "outputs": []
    },
    {
      "cell_type": "code",
      "source": [
        "# Analyze feature importance\n",
        "feature_importance = model.feature_importances_\n",
        "print(\"Feature Importance:\")\n",
        "for i, feature in enumerate(X.columns):\n",
        "    print(feature, \":\", feature_importance[i])"
      ],
      "metadata": {
        "colab": {
          "base_uri": "https://localhost:8080/"
        },
        "id": "AM-tl7ZlhEXu",
        "outputId": "7aa047ad-16b8-4e65-d6e4-94241743b337"
      },
      "execution_count": null,
      "outputs": [
        {
          "output_type": "stream",
          "name": "stdout",
          "text": [
            "Feature Importance:\n",
            "FEATTYPE : 0.0\n",
            "SECCLASS : 0.0\n",
            "STATE : 0.06455076\n",
            "ZIP : 0.041372996\n",
            "COUNTY : 0.03131092\n",
            "NAICSDESCR : 0.8015152\n",
            "X : 0.038793158\n",
            "Y : 0.022457026\n"
          ]
        }
      ]
    }
  ]
}